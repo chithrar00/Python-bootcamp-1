{
 "cells": [
  {
   "attachments": {},
   "cell_type": "markdown",
   "metadata": {},
   "source": [
    "## Basic Syntax"
   ]
  },
  {
   "cell_type": "code",
   "execution_count": null,
   "metadata": {},
   "outputs": [],
   "source": [
    "# This is a single line comment"
   ]
  },
  {
   "cell_type": "code",
   "execution_count": null,
   "metadata": {},
   "outputs": [],
   "source": [
    "\"\"\"\n",
    "This is a multi-line document. This is also called a docstring comment\n",
    "\"\"\""
   ]
  },
  {
   "cell_type": "code",
   "execution_count": null,
   "metadata": {},
   "outputs": [
    {
     "ename": "",
     "evalue": "",
     "output_type": "error",
     "traceback": [
      "\u001b[1;31mRunning cells with 'c:\\Users\\ch6107662\\AppData\\Local\\Programs\\Python\\Python311\\python.exe' requires the ipykernel package.\n",
      "\u001b[1;31mRun the following command to install 'ipykernel' into the Python environment. \n",
      "\u001b[1;31mCommand: 'c:/Users/ch6107662/AppData/Local/Programs/Python/Python311/python.exe -m pip install ipykernel -U --user --force-reinstall'"
     ]
    }
   ],
   "source": [
    "# Importing a package/module\n",
    "import datetime\n",
    "\n",
    "print(datetime.datetime.now())"
   ]
  },
  {
   "cell_type": "code",
   "execution_count": null,
   "metadata": {},
   "outputs": [],
   "source": [
    "# Importing specific functionality from a package/module\n",
    "from datetime import datetime\n",
    "\n",
    "print(datetime.now())"
   ]
  },
  {
   "cell_type": "code",
   "execution_count": null,
   "metadata": {},
   "outputs": [],
   "source": [
    "from datetime import datetime\n",
    "\n",
    "# Creating variables and assigning values\n",
    "age = 1\n",
    "name = \"Bob\"\n",
    "new_name = 'Marcus'\n",
    "print(f\"{age=}, {name=}, {new_name=}\")\n",
    "\n",
    "# Assigning functions to variables\n",
    "now = datetime.now\n",
    "print(f\"Current date and time: {now()}\")\n"
   ]
  },
  {
   "cell_type": "code",
   "execution_count": null,
   "metadata": {},
   "outputs": [],
   "source": [
    "# Working with control statements\n",
    "count = 9\n",
    "while count > 0:\n",
    "    if count > 0:\n",
    "        for index in range(count+1):\n",
    "            print(f\"{index}\", end=\"\")\n",
    "        print()\n",
    "        count -= 1"
   ]
  },
  {
   "cell_type": "code",
   "execution_count": null,
   "metadata": {},
   "outputs": [],
   "source": [
    "# Creating a function\n",
    "def perform_action():\n",
    "    print(\"Performing action!\")\n",
    "\n",
    "perform_action()"
   ]
  },
  {
   "cell_type": "code",
   "execution_count": null,
   "metadata": {},
   "outputs": [],
   "source": [
    "# Creating a class\n",
    "class Person:\n",
    "    def __init__(self, name):\n",
    "        self.name = name\n",
    "    \n",
    "    def print_name(self):\n",
    "        print(self.name)\n",
    "\n",
    "person = Person(\"Bob\")\n",
    "person.print_name()"
   ]
  },
  {
   "attachments": {},
   "cell_type": "markdown",
   "metadata": {},
   "source": [
    "## Variable Types"
   ]
  },
  {
   "cell_type": "code",
   "execution_count": null,
   "metadata": {},
   "outputs": [],
   "source": [
    "# Integers\n",
    "age = 1\n",
    "age = int(\"1\")"
   ]
  },
  {
   "cell_type": "code",
   "execution_count": null,
   "metadata": {},
   "outputs": [],
   "source": [
    "# Floats\n",
    "pi = 3.14\n",
    "pi = float(\"3.14\")"
   ]
  },
  {
   "cell_type": "code",
   "execution_count": null,
   "metadata": {},
   "outputs": [],
   "source": [
    "# Boolean\n",
    "is_set = False\n",
    "is_set = True"
   ]
  },
  {
   "cell_type": "code",
   "execution_count": null,
   "metadata": {},
   "outputs": [],
   "source": [
    "# Lists\n",
    "print(\"Lists:\")\n",
    "values = [1, 2, 3]\n",
    "print(values)\n",
    "print(len(values))\n",
    "print(values[0])\n",
    "values.append(4)\n",
    "print(values)"
   ]
  },
  {
   "cell_type": "code",
   "execution_count": null,
   "metadata": {},
   "outputs": [],
   "source": [
    "# Tuples\n",
    "print(\"Tuples\")\n",
    "values = (1, 2, 3)\n",
    "print(values)\n",
    "print(len(values))\n",
    "print(values[0])"
   ]
  },
  {
   "cell_type": "code",
   "execution_count": null,
   "metadata": {},
   "outputs": [],
   "source": [
    "# Sets\n",
    "values = {1, 2, 3, 2}\n",
    "print(\"Sets:\")\n",
    "print(values)\n",
    "print(len(values))\n",
    "print(values.pop()) # Removes the first item in the set\n",
    "values.remove(3) # Removes value from set if found\n",
    "print(values)"
   ]
  },
  {
   "cell_type": "code",
   "execution_count": null,
   "metadata": {},
   "outputs": [],
   "source": [
    "# Dictionaries\n",
    "person = {\"name\": \"Jim Bob\", \"age\": 1}\n",
    "person = dict(name=\"John Doe\", age=30)\n",
    "print(person)\n",
    "print(person.keys())\n",
    "print(person.values())"
   ]
  },
  {
   "attachments": {},
   "cell_type": "markdown",
   "metadata": {},
   "source": [
    "## Functions"
   ]
  },
  {
   "cell_type": "code",
   "execution_count": null,
   "metadata": {},
   "outputs": [],
   "source": [
    "# Simple function\n",
    "def hello_world():\n",
    "    return \"Hello World!\"\n",
    "print(hello_world())"
   ]
  },
  {
   "cell_type": "code",
   "execution_count": null,
   "metadata": {},
   "outputs": [],
   "source": [
    "# Function with positional arguments\n",
    "def sum(values):\n",
    "    total = 0\n",
    "    for value in values:\n",
    "        total += value\n",
    "    return total\n",
    "print(sum([1, 2, 3, 4]))"
   ]
  },
  {
   "cell_type": "code",
   "execution_count": null,
   "metadata": {},
   "outputs": [],
   "source": [
    "# Using optional keyword arguments\n",
    "def add(x, y):\n",
    "    return x + y\n",
    "print(add(1, 2)) # Positional\n",
    "print(add(y=1, x=2)) # Keyword"
   ]
  },
  {
   "cell_type": "code",
   "execution_count": null,
   "metadata": {},
   "outputs": [],
   "source": [
    "# Forcing arguments to be keyword arguments\n",
    "def subtract(*, x, y):\n",
    "    return x - y\n",
    "# print(subtract(1, 2)) # THIS WILL NOT WORK\n",
    "print(subtract(x=1, y=2))"
   ]
  },
  {
   "cell_type": "code",
   "execution_count": null,
   "metadata": {},
   "outputs": [],
   "source": [
    "# Defining some positional and keyword arguments\n",
    "# with default values\n",
    "def greet(name, *, greeting=\"Hello\"):\n",
    "    print(f\"{greeting} {name}\")\n",
    "greet(\"Jim\")\n",
    "greet(\"Jim\", greeting=\"Salut\")\n",
    "# greet(\"Jim\", \"Salut\")"
   ]
  },
  {
   "cell_type": "code",
   "execution_count": null,
   "metadata": {},
   "outputs": [],
   "source": [
    "# Defining functions that can take any number of postitional\n",
    "# and keyword arguments\n",
    "def do_something(*args, **kwargs):\n",
    "    print(f\"Total positional args: {len(args)}\")\n",
    "    for arg in args:\n",
    "        print(f\"Positional Argument: {arg}\")\n",
    "    print(f\"Total keyword args: {len(kwargs.keys())}\")\n",
    "    for key, value in kwargs.items():\n",
    "        print(f\"Keyword Argument: {key}={value}\")\n",
    "\n",
    "do_something(1, 2, 3, name=\"Bob\", age=4)"
   ]
  },
  {
   "cell_type": "code",
   "execution_count": null,
   "metadata": {},
   "outputs": [],
   "source": [
    "# Generator functions\n",
    "def fibonacci():\n",
    "    a, b = 0, 1\n",
    "    while True: # infinite loop \n",
    "        yield a # On each iteration, this returns the result and then pauses execution until the next iteration\n",
    "        a, b = b, a + b\n",
    "\n",
    "for a in fibonacci():\n",
    "    print(f\"A={a}\")\n",
    "    if a > 10:\n",
    "\t    break # Stop iterating"
   ]
  },
  {
   "cell_type": "code",
   "execution_count": null,
   "metadata": {},
   "outputs": [],
   "source": [
    "# AsyncIO \n",
    "import asyncio\n",
    "from datetime import datetime\n",
    "\n",
    "async def long_running_task(sleep_time=5):\n",
    "    print(f\"{datetime.now()}: Starting long-running task that sleeps for {sleep_time} seconds\")\n",
    "    await asyncio.sleep(sleep_time) # simulate long-running task\n",
    "    print(f\"{datetime.now()}: Long-running task complete after {sleep_time} seconds\")\n",
    "\n",
    "async def main():\n",
    "    await asyncio.gather(\n",
    "        long_running_task(), \n",
    "        long_running_task(7), \n",
    "        long_running_task(9)\n",
    "    )\n",
    "\n",
    "await main()\n"
   ]
  },
  {
   "attachments": {},
   "cell_type": "markdown",
   "metadata": {},
   "source": [
    "## Exception Handling"
   ]
  },
  {
   "cell_type": "code",
   "execution_count": null,
   "metadata": {},
   "outputs": [],
   "source": [
    "def create_engine(uri):\n",
    "    raise Exception(\"Not implemented\")\n",
    "\n",
    "db_engine = None\n",
    "db_uri = \"sqlite://test.db\"\n",
    "try:\n",
    "    db_engine = create_engine(db_uri)\n",
    "    Session = sessionmaker(bind=db_engine)\n",
    "    session = Session()\n",
    "    result = session.execute(\"SELECT COUNT(*) FROM mytable WHERE mycolumn = 'foo'\").scalar()\n",
    "    print(result)\n",
    "except Exception as e:\n",
    "    print(\"Error: \", e)\n",
    "finally:\n",
    "    if db_engine:\n",
    "        db_engine.dispose()\n"
   ]
  },
  {
   "attachments": {},
   "cell_type": "markdown",
   "metadata": {},
   "source": [
    "## Classes"
   ]
  },
  {
   "cell_type": "code",
   "execution_count": null,
   "metadata": {},
   "outputs": [],
   "source": [
    "# Define a new type called MyClass\n",
    "class MyClass:\n",
    "    # Constructor – Used to initialize an instance\n",
    "    # of the class.\n",
    "    def __init__(self, name):\n",
    "        # Using self (which represents the instance of the class)\n",
    "        # save the instance values within the instance\n",
    "        self.name = name\n",
    "\n",
    "    # Instance method that is associated directly to the instance\n",
    "    # when called\n",
    "    def say_hello(self):\n",
    "        print(f\"Hello, {self.name}!\")\n",
    "\n",
    "person = MyClass(\"Bob\")\n",
    "person.say_hello()"
   ]
  },
  {
   "cell_type": "code",
   "execution_count": null,
   "metadata": {},
   "outputs": [],
   "source": [
    "class MyClass:\n",
    "    instances_created = 0 # Class-level variable\n",
    "\n",
    "    def __init__(self, name):\n",
    "        self.name = name\n",
    "        MyClass.increase_instance_count()\n",
    "        MyClass.static_method()\n",
    "\n",
    "    # class-level method used to increment the instance\n",
    "    # count every time an instance is created. Class methods\n",
    "    # always have a classmethod decorator and the first argument \n",
    "    # is always a variable references the class (commonly named cls)\n",
    "    @classmethod\n",
    "    def increase_instance_count(cls):\n",
    "        MyClass.instances_created += 1\n",
    "\n",
    "    # static-level method – Always has a staticmethod decorator and\n",
    "    # no required arguments\n",
    "    @staticmethod\n",
    "    def static_method():\n",
    "        print(\"New instance created\")\n",
    "\n",
    "person = MyClass(\"Bob\")\n",
    "print(MyClass.instances_created)\n",
    "MyClass.increase_instance_count()\n",
    "MyClass.static_method()\n",
    "print(MyClass.instances_created)\n"
   ]
  },
  {
   "cell_type": "code",
   "execution_count": null,
   "metadata": {},
   "outputs": [],
   "source": [
    "# Mixins and Inheritance\n",
    "class MyBaseClass:\n",
    "    def do_something(self):\n",
    "        print(\"MyBaseClass: doing something\")\n",
    "\n",
    "class MyMixin:\n",
    "    def do_something(self):\n",
    "        print(\"MyMixin: doing something\")\n",
    "    def do_something_else(self):\n",
    "        print(\"MyMixin: doing something else\")\n",
    "\n",
    "class MyDerivedClass(MyMixin, MyBaseClass):\n",
    "    pass\n",
    "\n",
    "d = MyDerivedClass()\n",
    "d.do_something() # prints \"MyMixin: doing something”\n",
    "d.do_something_else() # print “MyMixin: doing something else”\n"
   ]
  },
  {
   "cell_type": "code",
   "execution_count": null,
   "metadata": {},
   "outputs": [],
   "source": [
    "# Magic Methods\n",
    "class MyClass:\n",
    "\t# The constructor method that initializes an object with initial values\n",
    "\tdef __init__(self, name):\n",
    "\t\tself.name = name\n",
    "\n",
    "\t# This method is called when a string representation of an object is \n",
    "\t# required, such as when using print() or str() on the object\n",
    "\tdef __str__(self):\n",
    "\t\treturn f\"My name is {self.name}\"\n",
    "\n",
    "\t# This method is used to define the equality comparison (e.g. a == b) between two objects\n",
    "\tdef __eq__(self, other):\n",
    "\t\treturn self.name == other.name\n",
    "\t# Used to return a string representation of an object when the repr() function is used. \n",
    "\t# Generally this returns a string that can be used to recreate the object while in the REPL\n",
    "\tdef __repr__(self):\n",
    "\t\treturn f'Person(name={self.name})'\n",
    "\n",
    "personA = MyClass(\"Bob\")\n",
    "personB = MyClass(\"Bob\")\n",
    "print(personA)\n",
    "print(personA == personB)\n",
    "print(repr(personA))"
   ]
  },
  {
   "attachments": {},
   "cell_type": "markdown",
   "metadata": {},
   "source": [
    "## Context Managers"
   ]
  },
  {
   "cell_type": "code",
   "execution_count": null,
   "metadata": {},
   "outputs": [],
   "source": [
    "with open(\"example.txt\", \"w\") as file:\n",
    "    file.writelines([\"This is a sample\"])\n",
    "    \n",
    "try:\n",
    "    with open(\"example.txt\", \"r\") as file:\n",
    "        content = file.read()\n",
    "        print(content)\n",
    "except:\n",
    "    print(\"An error occurred while reading a file\")\n"
   ]
  },
  {
   "attachments": {},
   "cell_type": "markdown",
   "metadata": {},
   "source": [
    "## Decorators"
   ]
  },
  {
   "cell_type": "code",
   "execution_count": null,
   "metadata": {},
   "outputs": [],
   "source": [
    "# Manually creating decorators\n",
    "\n",
    "# Define a function that performs some action\n",
    "def add(a, b):\n",
    "    return a + b\n",
    "\n",
    "# Create a function that accepts a function and returns a new function that modifies the\n",
    "# function passed in. In this case, we want to simple print a message before and after the\n",
    "# add function is called.\n",
    "def wrap_add(func):\n",
    "    def new_func(a, b):\n",
    "        print(\"Starting function\")\n",
    "        result = func(a, b)\n",
    "        print(\"Ending function\")\n",
    "        return result\n",
    "    return new_func\n",
    "\n",
    "# Replace the add function with a modified version of the add function\n",
    "# Note, this does not delete the original add function, it simple ”wraps” it up\n",
    "# in the new definition.\n",
    "add = wrap_add(add)\n",
    "\n",
    "print(add(1, 2))\n"
   ]
  },
  {
   "cell_type": "code",
   "execution_count": null,
   "metadata": {},
   "outputs": [],
   "source": [
    "import functools\n",
    "\n",
    "# Create the decorator\n",
    "def wrap_add(func):\n",
    "    # This line below simply copies the original function details (such as help)\n",
    "    # into this new function. Without it this is lost.\n",
    "    @functools.wraps(func)\n",
    "    def new_func(*args, **kwargs):\n",
    "        print(\"Starting function\")\n",
    "        # Now we enable our decorator to accept any number of positional arguments\n",
    "        # and/or keyword arguments and we simply unpack them (using * and **) so that\n",
    "        # the original function sees them as expected\n",
    "        result = func(*args, **kwargs)\n",
    "        print(\"Ending function\")\n",
    "        return result\n",
    "    return new_func\n",
    "\n",
    "# Define a function that performs some action\n",
    "# and use a decorator (i.e. replace our function with the wrapper function)\n",
    "@wrap_add\n",
    "def add(a, b):\n",
    "    return a + b\n",
    "\n",
    "print(add(1, 2))\n"
   ]
  }
 ],
 "metadata": {
  "kernelspec": {
   "display_name": ".venv",
   "language": "python",
   "name": "python3"
  },
  "language_info": {
   "codemirror_mode": {
    "name": "ipython",
    "version": 3
   },
   "file_extension": ".py",
   "mimetype": "text/x-python",
   "name": "python",
   "nbconvert_exporter": "python",
   "pygments_lexer": "ipython3",
   "version": "3.11.1"
  },
  "orig_nbformat": 4,
  "vscode": {
   "interpreter": {
    "hash": "162bf9d28314a14ff1acfde5519192d24eb6ff9f845634ed1fb9d39821495935"
   }
  }
 },
 "nbformat": 4,
 "nbformat_minor": 2
}
